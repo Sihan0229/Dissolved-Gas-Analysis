{
 "cells": [
  {
   "cell_type": "code",
   "execution_count": 1,
   "metadata": {},
   "outputs": [],
   "source": [
    "import pandas as pd\n",
    "import numpy as np"
   ]
  },
  {
   "cell_type": "code",
   "execution_count": 2,
   "metadata": {},
   "outputs": [],
   "source": [
    "df = pd.read_csv('data_DGA.csv', index_col = 0)"
   ]
  },
  {
   "cell_type": "code",
   "execution_count": 3,
   "metadata": {},
   "outputs": [],
   "source": [
    "df = df.iloc[:-1,:]"
   ]
  },
  {
   "cell_type": "code",
   "execution_count": 4,
   "metadata": {},
   "outputs": [
    {
     "data": {
      "text/html": [
       "<div>\n",
       "<style scoped>\n",
       "    .dataframe tbody tr th:only-of-type {\n",
       "        vertical-align: middle;\n",
       "    }\n",
       "\n",
       "    .dataframe tbody tr th {\n",
       "        vertical-align: top;\n",
       "    }\n",
       "\n",
       "    .dataframe thead th {\n",
       "        text-align: right;\n",
       "    }\n",
       "</style>\n",
       "<table border=\"1\" class=\"dataframe\">\n",
       "  <thead>\n",
       "    <tr style=\"text-align: right;\">\n",
       "      <th></th>\n",
       "      <th>h2</th>\n",
       "      <th>ch4</th>\n",
       "      <th>c2h6</th>\n",
       "      <th>c2h4</th>\n",
       "      <th>c2h2</th>\n",
       "      <th>act</th>\n",
       "    </tr>\n",
       "  </thead>\n",
       "  <tbody>\n",
       "    <tr>\n",
       "      <th>0.0</th>\n",
       "      <td>117</td>\n",
       "      <td>17.0</td>\n",
       "      <td>1.000</td>\n",
       "      <td>3.0</td>\n",
       "      <td>1.000</td>\n",
       "      <td>1.0</td>\n",
       "    </tr>\n",
       "    <tr>\n",
       "      <th>1.0</th>\n",
       "      <td>407</td>\n",
       "      <td>28.0</td>\n",
       "      <td>15.000</td>\n",
       "      <td>21.0</td>\n",
       "      <td>0.001</td>\n",
       "      <td>1.0</td>\n",
       "    </tr>\n",
       "    <tr>\n",
       "      <th>2.0</th>\n",
       "      <td>183</td>\n",
       "      <td>6.0</td>\n",
       "      <td>0.001</td>\n",
       "      <td>5.0</td>\n",
       "      <td>0.001</td>\n",
       "      <td>1.0</td>\n",
       "    </tr>\n",
       "    <tr>\n",
       "      <th>3.0</th>\n",
       "      <td>166</td>\n",
       "      <td>21.0</td>\n",
       "      <td>38.000</td>\n",
       "      <td>6.0</td>\n",
       "      <td>0.001</td>\n",
       "      <td>1.0</td>\n",
       "    </tr>\n",
       "    <tr>\n",
       "      <th>4.0</th>\n",
       "      <td>105</td>\n",
       "      <td>23.0</td>\n",
       "      <td>13.000</td>\n",
       "      <td>4.0</td>\n",
       "      <td>3.000</td>\n",
       "      <td>1.0</td>\n",
       "    </tr>\n",
       "    <tr>\n",
       "      <th>...</th>\n",
       "      <td>...</td>\n",
       "      <td>...</td>\n",
       "      <td>...</td>\n",
       "      <td>...</td>\n",
       "      <td>...</td>\n",
       "      <td>...</td>\n",
       "    </tr>\n",
       "    <tr>\n",
       "      <th>559.0</th>\n",
       "      <td>56</td>\n",
       "      <td>61.0</td>\n",
       "      <td>75.000</td>\n",
       "      <td>32.0</td>\n",
       "      <td>31.000</td>\n",
       "      <td>2.0</td>\n",
       "    </tr>\n",
       "    <tr>\n",
       "      <th>560.0</th>\n",
       "      <td>217</td>\n",
       "      <td>286.0</td>\n",
       "      <td>14.000</td>\n",
       "      <td>458.0</td>\n",
       "      <td>884.000</td>\n",
       "      <td>3.0</td>\n",
       "    </tr>\n",
       "    <tr>\n",
       "      <th>561.0</th>\n",
       "      <td>441</td>\n",
       "      <td>207.0</td>\n",
       "      <td>43.000</td>\n",
       "      <td>224.0</td>\n",
       "      <td>261.000</td>\n",
       "      <td>3.0</td>\n",
       "    </tr>\n",
       "    <tr>\n",
       "      <th>562.0</th>\n",
       "      <td>127</td>\n",
       "      <td>24.0</td>\n",
       "      <td>0.001</td>\n",
       "      <td>32.0</td>\n",
       "      <td>81.000</td>\n",
       "      <td>3.0</td>\n",
       "    </tr>\n",
       "    <tr>\n",
       "      <th>563.0</th>\n",
       "      <td>176</td>\n",
       "      <td>205.9</td>\n",
       "      <td>47.700</td>\n",
       "      <td>75.7</td>\n",
       "      <td>68.700</td>\n",
       "      <td>3.0</td>\n",
       "    </tr>\n",
       "  </tbody>\n",
       "</table>\n",
       "<p>564 rows × 6 columns</p>\n",
       "</div>"
      ],
      "text/plain": [
       "        h2    ch4    c2h6   c2h4     c2h2  act\n",
       "0.0    117   17.0   1.000    3.0    1.000  1.0\n",
       "1.0    407   28.0  15.000   21.0    0.001  1.0\n",
       "2.0    183    6.0   0.001    5.0    0.001  1.0\n",
       "3.0    166   21.0  38.000    6.0    0.001  1.0\n",
       "4.0    105   23.0  13.000    4.0    3.000  1.0\n",
       "...    ...    ...     ...    ...      ...  ...\n",
       "559.0   56   61.0  75.000   32.0   31.000  2.0\n",
       "560.0  217  286.0  14.000  458.0  884.000  3.0\n",
       "561.0  441  207.0  43.000  224.0  261.000  3.0\n",
       "562.0  127   24.0   0.001   32.0   81.000  3.0\n",
       "563.0  176  205.9  47.700   75.7   68.700  3.0\n",
       "\n",
       "[564 rows x 6 columns]"
      ]
     },
     "execution_count": 4,
     "metadata": {},
     "output_type": "execute_result"
    }
   ],
   "source": [
    "df"
   ]
  },
  {
   "cell_type": "code",
   "execution_count": 5,
   "metadata": {},
   "outputs": [],
   "source": [
    "df['h2'] = pd.to_numeric(df['h2'],errors='coerce')\n",
    "df['ch4'] = pd.to_numeric(df['ch4'],errors='coerce')\n",
    "df['c2h6'] = pd.to_numeric(df['c2h6'],errors='coerce')\n",
    "df['c2h4'] = pd.to_numeric(df['c2h4'],errors='coerce')\n",
    "df['act'] = pd.to_numeric(df['act'],errors='coerce')\n"
   ]
  },
  {
   "cell_type": "code",
   "execution_count": 6,
   "metadata": {},
   "outputs": [
    {
     "data": {
      "text/plain": [
       "h2      float64\n",
       "ch4     float64\n",
       "c2h6    float64\n",
       "c2h4    float64\n",
       "c2h2    float64\n",
       "act     float64\n",
       "dtype: object"
      ]
     },
     "execution_count": 6,
     "metadata": {},
     "output_type": "execute_result"
    }
   ],
   "source": [
    "df.dtypes"
   ]
  },
  {
   "cell_type": "code",
   "execution_count": 7,
   "metadata": {},
   "outputs": [],
   "source": [
    "df = df.reset_index(drop=True)"
   ]
  },
  {
   "cell_type": "code",
   "execution_count": 8,
   "metadata": {},
   "outputs": [
    {
     "data": {
      "text/html": [
       "<div>\n",
       "<style scoped>\n",
       "    .dataframe tbody tr th:only-of-type {\n",
       "        vertical-align: middle;\n",
       "    }\n",
       "\n",
       "    .dataframe tbody tr th {\n",
       "        vertical-align: top;\n",
       "    }\n",
       "\n",
       "    .dataframe thead th {\n",
       "        text-align: right;\n",
       "    }\n",
       "</style>\n",
       "<table border=\"1\" class=\"dataframe\">\n",
       "  <thead>\n",
       "    <tr style=\"text-align: right;\">\n",
       "      <th></th>\n",
       "      <th>h2</th>\n",
       "      <th>ch4</th>\n",
       "      <th>c2h6</th>\n",
       "      <th>c2h4</th>\n",
       "      <th>c2h2</th>\n",
       "      <th>act</th>\n",
       "    </tr>\n",
       "  </thead>\n",
       "  <tbody>\n",
       "    <tr>\n",
       "      <th>0</th>\n",
       "      <td>117.0</td>\n",
       "      <td>17.0</td>\n",
       "      <td>1.000</td>\n",
       "      <td>3.0</td>\n",
       "      <td>1.000</td>\n",
       "      <td>1.0</td>\n",
       "    </tr>\n",
       "    <tr>\n",
       "      <th>1</th>\n",
       "      <td>407.0</td>\n",
       "      <td>28.0</td>\n",
       "      <td>15.000</td>\n",
       "      <td>21.0</td>\n",
       "      <td>0.001</td>\n",
       "      <td>1.0</td>\n",
       "    </tr>\n",
       "    <tr>\n",
       "      <th>2</th>\n",
       "      <td>183.0</td>\n",
       "      <td>6.0</td>\n",
       "      <td>0.001</td>\n",
       "      <td>5.0</td>\n",
       "      <td>0.001</td>\n",
       "      <td>1.0</td>\n",
       "    </tr>\n",
       "    <tr>\n",
       "      <th>3</th>\n",
       "      <td>166.0</td>\n",
       "      <td>21.0</td>\n",
       "      <td>38.000</td>\n",
       "      <td>6.0</td>\n",
       "      <td>0.001</td>\n",
       "      <td>1.0</td>\n",
       "    </tr>\n",
       "    <tr>\n",
       "      <th>4</th>\n",
       "      <td>105.0</td>\n",
       "      <td>23.0</td>\n",
       "      <td>13.000</td>\n",
       "      <td>4.0</td>\n",
       "      <td>3.000</td>\n",
       "      <td>1.0</td>\n",
       "    </tr>\n",
       "    <tr>\n",
       "      <th>...</th>\n",
       "      <td>...</td>\n",
       "      <td>...</td>\n",
       "      <td>...</td>\n",
       "      <td>...</td>\n",
       "      <td>...</td>\n",
       "      <td>...</td>\n",
       "    </tr>\n",
       "    <tr>\n",
       "      <th>559</th>\n",
       "      <td>56.0</td>\n",
       "      <td>61.0</td>\n",
       "      <td>75.000</td>\n",
       "      <td>32.0</td>\n",
       "      <td>31.000</td>\n",
       "      <td>2.0</td>\n",
       "    </tr>\n",
       "    <tr>\n",
       "      <th>560</th>\n",
       "      <td>217.0</td>\n",
       "      <td>286.0</td>\n",
       "      <td>14.000</td>\n",
       "      <td>458.0</td>\n",
       "      <td>884.000</td>\n",
       "      <td>3.0</td>\n",
       "    </tr>\n",
       "    <tr>\n",
       "      <th>561</th>\n",
       "      <td>441.0</td>\n",
       "      <td>207.0</td>\n",
       "      <td>43.000</td>\n",
       "      <td>224.0</td>\n",
       "      <td>261.000</td>\n",
       "      <td>3.0</td>\n",
       "    </tr>\n",
       "    <tr>\n",
       "      <th>562</th>\n",
       "      <td>127.0</td>\n",
       "      <td>24.0</td>\n",
       "      <td>0.001</td>\n",
       "      <td>32.0</td>\n",
       "      <td>81.000</td>\n",
       "      <td>3.0</td>\n",
       "    </tr>\n",
       "    <tr>\n",
       "      <th>563</th>\n",
       "      <td>176.0</td>\n",
       "      <td>205.9</td>\n",
       "      <td>47.700</td>\n",
       "      <td>75.7</td>\n",
       "      <td>68.700</td>\n",
       "      <td>3.0</td>\n",
       "    </tr>\n",
       "  </tbody>\n",
       "</table>\n",
       "<p>564 rows × 6 columns</p>\n",
       "</div>"
      ],
      "text/plain": [
       "        h2    ch4    c2h6   c2h4     c2h2  act\n",
       "0    117.0   17.0   1.000    3.0    1.000  1.0\n",
       "1    407.0   28.0  15.000   21.0    0.001  1.0\n",
       "2    183.0    6.0   0.001    5.0    0.001  1.0\n",
       "3    166.0   21.0  38.000    6.0    0.001  1.0\n",
       "4    105.0   23.0  13.000    4.0    3.000  1.0\n",
       "..     ...    ...     ...    ...      ...  ...\n",
       "559   56.0   61.0  75.000   32.0   31.000  2.0\n",
       "560  217.0  286.0  14.000  458.0  884.000  3.0\n",
       "561  441.0  207.0  43.000  224.0  261.000  3.0\n",
       "562  127.0   24.0   0.001   32.0   81.000  3.0\n",
       "563  176.0  205.9  47.700   75.7   68.700  3.0\n",
       "\n",
       "[564 rows x 6 columns]"
      ]
     },
     "execution_count": 8,
     "metadata": {},
     "output_type": "execute_result"
    }
   ],
   "source": [
    "df"
   ]
  },
  {
   "cell_type": "code",
   "execution_count": 9,
   "metadata": {},
   "outputs": [
    {
     "name": "stdout",
     "output_type": "stream",
     "text": [
      "6\n"
     ]
    }
   ],
   "source": [
    "print(df['act'].nunique(dropna = True))"
   ]
  },
  {
   "cell_type": "code",
   "execution_count": 10,
   "metadata": {},
   "outputs": [
    {
     "data": {
      "text/html": [
       "<div>\n",
       "<style scoped>\n",
       "    .dataframe tbody tr th:only-of-type {\n",
       "        vertical-align: middle;\n",
       "    }\n",
       "\n",
       "    .dataframe tbody tr th {\n",
       "        vertical-align: top;\n",
       "    }\n",
       "\n",
       "    .dataframe thead th {\n",
       "        text-align: right;\n",
       "    }\n",
       "</style>\n",
       "<table border=\"1\" class=\"dataframe\">\n",
       "  <thead>\n",
       "    <tr style=\"text-align: right;\">\n",
       "      <th></th>\n",
       "      <th>h2</th>\n",
       "      <th>ch4</th>\n",
       "      <th>c2h6</th>\n",
       "      <th>c2h4</th>\n",
       "      <th>c2h2</th>\n",
       "    </tr>\n",
       "  </thead>\n",
       "  <tbody>\n",
       "    <tr>\n",
       "      <th>0</th>\n",
       "      <td>117.0</td>\n",
       "      <td>17.0</td>\n",
       "      <td>1.000</td>\n",
       "      <td>3.0</td>\n",
       "      <td>1.000</td>\n",
       "    </tr>\n",
       "    <tr>\n",
       "      <th>1</th>\n",
       "      <td>407.0</td>\n",
       "      <td>28.0</td>\n",
       "      <td>15.000</td>\n",
       "      <td>21.0</td>\n",
       "      <td>0.001</td>\n",
       "    </tr>\n",
       "    <tr>\n",
       "      <th>2</th>\n",
       "      <td>183.0</td>\n",
       "      <td>6.0</td>\n",
       "      <td>0.001</td>\n",
       "      <td>5.0</td>\n",
       "      <td>0.001</td>\n",
       "    </tr>\n",
       "    <tr>\n",
       "      <th>3</th>\n",
       "      <td>166.0</td>\n",
       "      <td>21.0</td>\n",
       "      <td>38.000</td>\n",
       "      <td>6.0</td>\n",
       "      <td>0.001</td>\n",
       "    </tr>\n",
       "    <tr>\n",
       "      <th>4</th>\n",
       "      <td>105.0</td>\n",
       "      <td>23.0</td>\n",
       "      <td>13.000</td>\n",
       "      <td>4.0</td>\n",
       "      <td>3.000</td>\n",
       "    </tr>\n",
       "    <tr>\n",
       "      <th>...</th>\n",
       "      <td>...</td>\n",
       "      <td>...</td>\n",
       "      <td>...</td>\n",
       "      <td>...</td>\n",
       "      <td>...</td>\n",
       "    </tr>\n",
       "    <tr>\n",
       "      <th>559</th>\n",
       "      <td>56.0</td>\n",
       "      <td>61.0</td>\n",
       "      <td>75.000</td>\n",
       "      <td>32.0</td>\n",
       "      <td>31.000</td>\n",
       "    </tr>\n",
       "    <tr>\n",
       "      <th>560</th>\n",
       "      <td>217.0</td>\n",
       "      <td>286.0</td>\n",
       "      <td>14.000</td>\n",
       "      <td>458.0</td>\n",
       "      <td>884.000</td>\n",
       "    </tr>\n",
       "    <tr>\n",
       "      <th>561</th>\n",
       "      <td>441.0</td>\n",
       "      <td>207.0</td>\n",
       "      <td>43.000</td>\n",
       "      <td>224.0</td>\n",
       "      <td>261.000</td>\n",
       "    </tr>\n",
       "    <tr>\n",
       "      <th>562</th>\n",
       "      <td>127.0</td>\n",
       "      <td>24.0</td>\n",
       "      <td>0.001</td>\n",
       "      <td>32.0</td>\n",
       "      <td>81.000</td>\n",
       "    </tr>\n",
       "    <tr>\n",
       "      <th>563</th>\n",
       "      <td>176.0</td>\n",
       "      <td>205.9</td>\n",
       "      <td>47.700</td>\n",
       "      <td>75.7</td>\n",
       "      <td>68.700</td>\n",
       "    </tr>\n",
       "  </tbody>\n",
       "</table>\n",
       "<p>564 rows × 5 columns</p>\n",
       "</div>"
      ],
      "text/plain": [
       "        h2    ch4    c2h6   c2h4     c2h2\n",
       "0    117.0   17.0   1.000    3.0    1.000\n",
       "1    407.0   28.0  15.000   21.0    0.001\n",
       "2    183.0    6.0   0.001    5.0    0.001\n",
       "3    166.0   21.0  38.000    6.0    0.001\n",
       "4    105.0   23.0  13.000    4.0    3.000\n",
       "..     ...    ...     ...    ...      ...\n",
       "559   56.0   61.0  75.000   32.0   31.000\n",
       "560  217.0  286.0  14.000  458.0  884.000\n",
       "561  441.0  207.0  43.000  224.0  261.000\n",
       "562  127.0   24.0   0.001   32.0   81.000\n",
       "563  176.0  205.9  47.700   75.7   68.700\n",
       "\n",
       "[564 rows x 5 columns]"
      ]
     },
     "execution_count": 10,
     "metadata": {},
     "output_type": "execute_result"
    }
   ],
   "source": [
    "X = df.iloc[:, :5]\n",
    "X"
   ]
  },
  {
   "cell_type": "code",
   "execution_count": 11,
   "metadata": {},
   "outputs": [],
   "source": [
    "y = df.iloc[:, -1]"
   ]
  },
  {
   "cell_type": "code",
   "execution_count": 12,
   "metadata": {},
   "outputs": [
    {
     "data": {
      "text/plain": [
       "0      1.0\n",
       "1      1.0\n",
       "2      1.0\n",
       "3      1.0\n",
       "4      1.0\n",
       "      ... \n",
       "559    2.0\n",
       "560    3.0\n",
       "561    3.0\n",
       "562    3.0\n",
       "563    3.0\n",
       "Name: act, Length: 564, dtype: float64"
      ]
     },
     "execution_count": 12,
     "metadata": {},
     "output_type": "execute_result"
    }
   ],
   "source": [
    "y"
   ]
  },
  {
   "cell_type": "code",
   "execution_count": 13,
   "metadata": {},
   "outputs": [],
   "source": [
    "from sklearn.model_selection import train_test_split\n",
    "X_train, X_test, y_train, y_test = train_test_split(X, y, test_size = 0.10, random_state=42)"
   ]
  },
  {
   "cell_type": "code",
   "execution_count": null,
   "metadata": {},
   "outputs": [],
   "source": []
  },
  {
   "cell_type": "code",
   "execution_count": 14,
   "metadata": {},
   "outputs": [
    {
     "data": {
      "text/plain": [
       "KNeighborsClassifier(algorithm='auto', leaf_size=30, metric='minkowski',\n",
       "                     metric_params=None, n_jobs=None, n_neighbors=1, p=2,\n",
       "                     weights='uniform')"
      ]
     },
     "execution_count": 14,
     "metadata": {},
     "output_type": "execute_result"
    }
   ],
   "source": [
    "from sklearn.neighbors import KNeighborsClassifier\n",
    "classifier = KNeighborsClassifier(n_neighbors = 1)\n",
    "classifier.fit(X_train, y_train)"
   ]
  },
  {
   "cell_type": "code",
   "execution_count": 15,
   "metadata": {},
   "outputs": [],
   "source": [
    "y_pred = classifier.predict(X_test)"
   ]
  },
  {
   "cell_type": "code",
   "execution_count": 15,
   "metadata": {},
   "outputs": [],
   "source": [
    "from sklearn.metrics import classification_report, confusion_matrix, accuracy_score"
   ]
  },
  {
   "cell_type": "code",
   "execution_count": 17,
   "metadata": {},
   "outputs": [
    {
     "name": "stdout",
     "output_type": "stream",
     "text": [
      "Confusion Matrix:\n",
      "[[ 5  1  0  0  0  0]\n",
      " [ 0  4  3  0  0  0]\n",
      " [ 0  1 13  0  0  0]\n",
      " [ 0  1  0 11  0  0]\n",
      " [ 0  0  0  0  9  2]\n",
      " [ 0  0  0  0  1  6]]\n",
      "Classification Report:\n",
      "              precision    recall  f1-score   support\n",
      "\n",
      "         1.0       1.00      0.83      0.91         6\n",
      "         2.0       0.57      0.57      0.57         7\n",
      "         3.0       0.81      0.93      0.87        14\n",
      "         4.0       1.00      0.92      0.96        12\n",
      "         5.0       0.90      0.82      0.86        11\n",
      "         6.0       0.75      0.86      0.80         7\n",
      "\n",
      "    accuracy                           0.84        57\n",
      "   macro avg       0.84      0.82      0.83        57\n",
      "weighted avg       0.85      0.84      0.84        57\n",
      "\n",
      "Accuracy: 0.8421052631578947\n"
     ]
    }
   ],
   "source": [
    "result = confusion_matrix(y_test, y_pred)\n",
    "print(\"Confusion Matrix:\")\n",
    "print(result)\n",
    "result1 = classification_report(y_test, y_pred)\n",
    "print(\"Classification Report:\",)\n",
    "print (result1)\n",
    "result2 = accuracy_score(y_test,y_pred)\n",
    "print(\"Accuracy:\",result2)"
   ]
  },
  {
   "cell_type": "code",
   "execution_count": 16,
   "metadata": {},
   "outputs": [],
   "source": [
    "from sklearn.model_selection import train_test_split\n",
    "\n",
    "X_train, X_test, y_train, y_test = train_test_split(X, y, test_size=0.1, random_state=42)\n"
   ]
  },
  {
   "cell_type": "code",
   "execution_count": 17,
   "metadata": {},
   "outputs": [],
   "source": [
    "from xgboost.sklearn import XGBClassifier"
   ]
  },
  {
   "cell_type": "code",
   "execution_count": 38,
   "metadata": {},
   "outputs": [],
   "source": [
    "xgb1 = XGBClassifier(\n",
    " learning_rate =0.05,\n",
    " n_estimators=700,\n",
    " max_depth=6,\n",
    " min_child_weight=1,\n",
    " gamma=0,\n",
    " subsample=0.8,\n",
    " colsample_bytree=0.8,\n",
    " objective= 'multi:softprob',\n",
    " nthread=8,\n",
    " scale_pos_weight=2,\n",
    " seed=27)\n"
   ]
  },
  {
   "cell_type": "code",
   "execution_count": 35,
   "metadata": {},
   "outputs": [
    {
     "data": {
      "text/plain": [
       "XGBClassifier(base_score=0.5, booster='gbtree', colsample_bylevel=1,\n",
       "              colsample_bynode=1, colsample_bytree=0.8, gamma=0,\n",
       "              learning_rate=0.05, max_delta_step=0, max_depth=6,\n",
       "              min_child_weight=1, missing=None, n_estimators=700, n_jobs=1,\n",
       "              nthread=8, objective='multi:softprob', random_state=0,\n",
       "              reg_alpha=0, reg_lambda=1, scale_pos_weight=2, seed=27,\n",
       "              silent=None, subsample=0.8, verbosity=1)"
      ]
     },
     "execution_count": 35,
     "metadata": {},
     "output_type": "execute_result"
    }
   ],
   "source": [
    "xgb1.fit(X_train,y_train)"
   ]
  },
  {
   "cell_type": "code",
   "execution_count": 36,
   "metadata": {},
   "outputs": [],
   "source": [
    "preds = xgb1.predict(X_test)"
   ]
  },
  {
   "cell_type": "code",
   "execution_count": 37,
   "metadata": {},
   "outputs": [
    {
     "name": "stdout",
     "output_type": "stream",
     "text": [
      "Accuracy: 91.23%\n"
     ]
    }
   ],
   "source": [
    "from sklearn.metrics import accuracy_score\n",
    "accuracy = accuracy_score(preds,y_test)\n",
    "print(\"Accuracy: %.2f%%\" % (accuracy * 100.0))"
   ]
  },
  {
   "cell_type": "code",
   "execution_count": 96,
   "metadata": {},
   "outputs": [],
   "source": [
    "from sklearn.metrics import classification_report, confusion_matrix, accuracy_score"
   ]
  },
  {
   "cell_type": "code",
   "execution_count": 99,
   "metadata": {},
   "outputs": [
    {
     "name": "stdout",
     "output_type": "stream",
     "text": [
      "Confusion Matrix:\n",
      "[[ 6  0  0  0  0  0]\n",
      " [ 0  4  3  0  0  0]\n",
      " [ 0  0 14  0  0  0]\n",
      " [ 0  0  0 12  0  0]\n",
      " [ 0  0  0  2  9  0]\n",
      " [ 0  0  0  0  0  7]]\n",
      "Classification Report:\n",
      "              precision    recall  f1-score   support\n",
      "\n",
      "         1.0       1.00      1.00      1.00         6\n",
      "         2.0       1.00      0.57      0.73         7\n",
      "         3.0       0.82      1.00      0.90        14\n",
      "         4.0       0.86      1.00      0.92        12\n",
      "         5.0       1.00      0.82      0.90        11\n",
      "         6.0       1.00      1.00      1.00         7\n",
      "\n",
      "    accuracy                           0.91        57\n",
      "   macro avg       0.95      0.90      0.91        57\n",
      "weighted avg       0.93      0.91      0.91        57\n",
      "\n",
      "Accuracy: 0.9122807017543859\n"
     ]
    }
   ],
   "source": [
    "result = confusion_matrix(y_test, preds)\n",
    "print(\"Confusion Matrix:\")\n",
    "print(result)\n",
    "result1 = classification_report(y_test, preds)\n",
    "print(\"Classification Report:\",)\n",
    "print (result1)\n",
    "result2 = accuracy_score(y_test,preds)\n",
    "print(\"Accuracy:\",result2)"
   ]
  },
  {
   "cell_type": "code",
   "execution_count": 41,
   "metadata": {},
   "outputs": [],
   "source": [
    "from sklearn.neighbors import KNeighborsClassifier\n",
    "neigh = KNeighborsClassifier(n_neighbors=1)"
   ]
  },
  {
   "cell_type": "code",
   "execution_count": 42,
   "metadata": {},
   "outputs": [
    {
     "data": {
      "text/plain": [
       "KNeighborsClassifier(algorithm='auto', leaf_size=30, metric='minkowski',\n",
       "                     metric_params=None, n_jobs=None, n_neighbors=1, p=2,\n",
       "                     weights='uniform')"
      ]
     },
     "execution_count": 42,
     "metadata": {},
     "output_type": "execute_result"
    }
   ],
   "source": [
    "neigh.fit(X_train,y_train)"
   ]
  },
  {
   "cell_type": "code",
   "execution_count": 43,
   "metadata": {},
   "outputs": [],
   "source": [
    "y_pred = neigh.predict(X_test)"
   ]
  },
  {
   "cell_type": "code",
   "execution_count": 44,
   "metadata": {},
   "outputs": [
    {
     "name": "stdout",
     "output_type": "stream",
     "text": [
      "Accuracy: 84.21%\n"
     ]
    }
   ],
   "source": [
    "accuracy = accuracy_score(y_pred,y_test)\n",
    "print(\"Accuracy: %.2f%%\" % (accuracy * 100.0))"
   ]
  },
  {
   "cell_type": "code",
   "execution_count": 28,
   "metadata": {},
   "outputs": [],
   "source": [
    "from sklearn.preprocessing import StandardScaler"
   ]
  },
  {
   "cell_type": "code",
   "execution_count": 29,
   "metadata": {},
   "outputs": [],
   "source": [
    "scaler = StandardScaler()"
   ]
  },
  {
   "cell_type": "code",
   "execution_count": 30,
   "metadata": {},
   "outputs": [],
   "source": [
    "X_ts = scaler.fit_transform(X_train)\n",
    "X_tes = scaler.fit_transform(X_test)"
   ]
  },
  {
   "cell_type": "code",
   "execution_count": 31,
   "metadata": {},
   "outputs": [
    {
     "data": {
      "text/plain": [
       "KNeighborsClassifier(algorithm='auto', leaf_size=30, metric='minkowski',\n",
       "                     metric_params=None, n_jobs=None, n_neighbors=6, p=2,\n",
       "                     weights='uniform')"
      ]
     },
     "execution_count": 31,
     "metadata": {},
     "output_type": "execute_result"
    }
   ],
   "source": [
    "neigh.fit(X_ts,y_train)"
   ]
  },
  {
   "cell_type": "code",
   "execution_count": 32,
   "metadata": {},
   "outputs": [],
   "source": [
    "y_tes = neigh.predict(X_tes)"
   ]
  },
  {
   "cell_type": "code",
   "execution_count": 33,
   "metadata": {},
   "outputs": [
    {
     "name": "stdout",
     "output_type": "stream",
     "text": [
      "Accuracy: 33.33%\n"
     ]
    }
   ],
   "source": [
    "accuracy = accuracy_score(y_tes,y_test)\n",
    "print(\"Accuracy: %.2f%%\" % (accuracy * 100.0))"
   ]
  },
  {
   "cell_type": "code",
   "execution_count": 34,
   "metadata": {},
   "outputs": [],
   "source": [
    "leaf_size = list(range(1,50))\n",
    "n_neighbors = list(range(1,30))\n",
    "p=[1,2]\n",
    "hyperparameters = dict(leaf_size=leaf_size, n_neighbors=n_neighbors, p=p)"
   ]
  },
  {
   "cell_type": "code",
   "execution_count": 35,
   "metadata": {},
   "outputs": [],
   "source": [
    "knn_2 = KNeighborsClassifier()"
   ]
  },
  {
   "cell_type": "code",
   "execution_count": 36,
   "metadata": {},
   "outputs": [],
   "source": [
    "from sklearn.metrics import roc_auc_score\n",
    "from sklearn.model_selection import GridSearchCV\n",
    "clf = GridSearchCV(knn_2, hyperparameters, cv=10)"
   ]
  },
  {
   "cell_type": "code",
   "execution_count": 40,
   "metadata": {},
   "outputs": [],
   "source": [
    "clf = GridSearchCV(knn_2, hyperparameters, cv=10)"
   ]
  },
  {
   "cell_type": "code",
   "execution_count": null,
   "metadata": {},
   "outputs": [],
   "source": [
    "clf.fit(X_train,y_train)"
   ]
  },
  {
   "cell_type": "code",
   "execution_count": 45,
   "metadata": {},
   "outputs": [],
   "source": [
    "from sklearn.ensemble import RandomForestClassifier\n",
    "from sklearn.datasets import make_classification"
   ]
  },
  {
   "cell_type": "code",
   "execution_count": 82,
   "metadata": {},
   "outputs": [],
   "source": [
    "clf = RandomForestClassifier(max_depth=13, random_state=42)"
   ]
  },
  {
   "cell_type": "code",
   "execution_count": 83,
   "metadata": {},
   "outputs": [
    {
     "data": {
      "text/plain": [
       "RandomForestClassifier(bootstrap=True, ccp_alpha=0.0, class_weight=None,\n",
       "                       criterion='gini', max_depth=13, max_features='auto',\n",
       "                       max_leaf_nodes=None, max_samples=None,\n",
       "                       min_impurity_decrease=0.0, min_impurity_split=None,\n",
       "                       min_samples_leaf=1, min_samples_split=2,\n",
       "                       min_weight_fraction_leaf=0.0, n_estimators=100,\n",
       "                       n_jobs=None, oob_score=False, random_state=42, verbose=0,\n",
       "                       warm_start=False)"
      ]
     },
     "execution_count": 83,
     "metadata": {},
     "output_type": "execute_result"
    }
   ],
   "source": [
    "clf.fit(X_train, y_train)"
   ]
  },
  {
   "cell_type": "code",
   "execution_count": 84,
   "metadata": {},
   "outputs": [],
   "source": [
    "y_t = clf.predict(X_test)"
   ]
  },
  {
   "cell_type": "code",
   "execution_count": 85,
   "metadata": {},
   "outputs": [
    {
     "name": "stdout",
     "output_type": "stream",
     "text": [
      "Accuracy: 87.72%\n"
     ]
    }
   ],
   "source": [
    "accuracy = accuracy_score(y_t,y_test)\n",
    "print(\"Accuracy: %.2f%%\" % (accuracy * 100.0))"
   ]
  },
  {
   "cell_type": "code",
   "execution_count": 89,
   "metadata": {},
   "outputs": [
    {
     "name": "stdout",
     "output_type": "stream",
     "text": [
      "Accuracy: 50.88%\n",
      "Accuracy: 57.89%\n",
      "Accuracy: 61.40%\n",
      "Accuracy: 68.42%\n",
      "Accuracy: 71.93%\n",
      "Accuracy: 84.21%\n",
      "Accuracy: 85.96%\n",
      "Accuracy: 84.21%\n",
      "Accuracy: 85.96%\n",
      "Accuracy: 87.72%\n",
      "Accuracy: 87.72%\n",
      "Accuracy: 87.72%\n",
      "Accuracy: 87.72%\n",
      "Accuracy: 87.72%\n",
      "Accuracy: 87.72%\n",
      "Accuracy: 87.72%\n",
      "Accuracy: 87.72%\n",
      "Accuracy: 87.72%\n",
      "Accuracy: 87.72%\n"
     ]
    }
   ],
   "source": [
    "for i in range(1,20):\n",
    "    clf = RandomForestClassifier(max_depth=i, random_state=42)\n",
    "    clf.fit(X_train, y_train)\n",
    "    y_t = clf.predict(X_test)\n",
    "    accuracy = accuracy_score(y_t,y_test)\n",
    "    print(\"Accuracy: %.2f%%\" % (accuracy * 100.0))\n",
    "    \n",
    "    "
   ]
  },
  {
   "cell_type": "code",
   "execution_count": null,
   "metadata": {},
   "outputs": [],
   "source": []
  }
 ],
 "metadata": {
  "kernelspec": {
   "display_name": "Python 3",
   "language": "python",
   "name": "python3"
  },
  "language_info": {
   "codemirror_mode": {
    "name": "ipython",
    "version": 3
   },
   "file_extension": ".py",
   "mimetype": "text/x-python",
   "name": "python",
   "nbconvert_exporter": "python",
   "pygments_lexer": "ipython3",
   "version": "3.7.3"
  }
 },
 "nbformat": 4,
 "nbformat_minor": 4
}
